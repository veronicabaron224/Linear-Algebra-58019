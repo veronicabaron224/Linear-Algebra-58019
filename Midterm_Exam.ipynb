{
  "nbformat": 4,
  "nbformat_minor": 0,
  "metadata": {
    "colab": {
      "name": "Midterm Exam",
      "provenance": [],
      "authorship_tag": "ABX9TyNjvE5rMsSUnsFbblSRX7bH",
      "include_colab_link": true
    },
    "kernelspec": {
      "name": "python3",
      "display_name": "Python 3"
    },
    "language_info": {
      "name": "python"
    }
  },
  "cells": [
    {
      "cell_type": "markdown",
      "metadata": {
        "id": "view-in-github",
        "colab_type": "text"
      },
      "source": [
        "<a href=\"https://colab.research.google.com/github/veronicabaron224/Linear-Algebra-58019/blob/main/Midterm_Exam.ipynb\" target=\"_parent\"><img src=\"https://colab.research.google.com/assets/colab-badge.svg\" alt=\"Open In Colab\"/></a>"
      ]
    },
    {
      "cell_type": "code",
      "metadata": {
        "id": "3JV20FH94265"
      },
      "source": [
        "import numpy as np"
      ],
      "execution_count": 2,
      "outputs": []
    },
    {
      "cell_type": "markdown",
      "metadata": {
        "id": "5E2tDomX3zna"
      },
      "source": [
        "Question 1. Create a Python code that displays a square matrix whose length is 5 (10 points)"
      ]
    },
    {
      "cell_type": "code",
      "metadata": {
        "colab": {
          "base_uri": "https://localhost:8080/"
        },
        "id": "sETC514V3ndQ",
        "outputId": "b7c95934-d293-4e34-8706-8664e9bf828d"
      },
      "source": [
        "square = np.zeros((5,5))\n",
        "print(square)"
      ],
      "execution_count": 3,
      "outputs": [
        {
          "output_type": "stream",
          "name": "stdout",
          "text": [
            "[[0. 0. 0. 0. 0.]\n",
            " [0. 0. 0. 0. 0.]\n",
            " [0. 0. 0. 0. 0.]\n",
            " [0. 0. 0. 0. 0.]\n",
            " [0. 0. 0. 0. 0.]]\n"
          ]
        }
      ]
    },
    {
      "cell_type": "markdown",
      "metadata": {
        "id": "KPF1vWh64zbR"
      },
      "source": [
        "Question 2. Create a Python code that displays a square matrix whose elements below the principal diagonal are zero (10 points)\n",
        "\n"
      ]
    },
    {
      "cell_type": "code",
      "metadata": {
        "colab": {
          "base_uri": "https://localhost:8080/"
        },
        "id": "dTaYInVI4xr2",
        "outputId": "cb2fd649-210c-479b-c2ab-9e16ac584724"
      },
      "source": [
        "matrix = np.array([[1,2,3],[4,5,6],[7,8,9]])\n",
        "diag = np.triu(matrix)\n",
        "print(diag)"
      ],
      "execution_count": 29,
      "outputs": [
        {
          "output_type": "stream",
          "name": "stdout",
          "text": [
            "[[1 2 3]\n",
            " [0 5 6]\n",
            " [0 0 9]]\n"
          ]
        }
      ]
    },
    {
      "cell_type": "markdown",
      "metadata": {
        "id": "WoQevmeg4-u2"
      },
      "source": [
        "Question 3. Create a Python code that displays a square matrix which is symmetrical (10 points)"
      ]
    },
    {
      "cell_type": "code",
      "metadata": {
        "colab": {
          "base_uri": "https://localhost:8080/"
        },
        "id": "23KVWu2v4_BH",
        "outputId": "6db513f9-59d2-4124-8fd4-7ac49f3180e1"
      },
      "source": [
        "sym = np.array([[1,2,3],[2,5,4],[3,4,6]])\n",
        "print(sym)"
      ],
      "execution_count": 15,
      "outputs": [
        {
          "output_type": "stream",
          "name": "stdout",
          "text": [
            "[[1 2 3]\n",
            " [2 5 4]\n",
            " [3 4 6]]\n"
          ]
        }
      ]
    },
    {
      "cell_type": "markdown",
      "metadata": {
        "id": "TO9FdcJf5AOX"
      },
      "source": [
        "Question 4. What is the inverse of matrix C? Show your solution by python coding. (20 points)\n",
        "\n",
        "![image.png](data:image/png;base64,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)"
      ]
    },
    {
      "cell_type": "code",
      "metadata": {
        "colab": {
          "base_uri": "https://localhost:8080/"
        },
        "id": "UKCVPCqr5BGl",
        "outputId": "4b80ed0b-63d5-4b76-e43e-384eec3ac2d7"
      },
      "source": [
        "C = np.array([[1,2,3],[2,3,3],[3,4,-2]])\n",
        "inv_C = np.linalg.inv(C)\n",
        "print(inv_C)"
      ],
      "execution_count": 22,
      "outputs": [
        {
          "output_type": "stream",
          "name": "stdout",
          "text": [
            "[[-3.6  3.2 -0.6]\n",
            " [ 2.6 -2.2  0.6]\n",
            " [-0.2  0.4 -0.2]]\n"
          ]
        }
      ]
    },
    {
      "cell_type": "markdown",
      "metadata": {
        "id": "HMg7ZMUP5BUP"
      },
      "source": [
        "Question 5. What is the determinant of the given matrix in Question 4? Show your solution by python coding. (20 points)"
      ]
    },
    {
      "cell_type": "code",
      "metadata": {
        "colab": {
          "base_uri": "https://localhost:8080/"
        },
        "id": "3_dwImkw5BjT",
        "outputId": "21e642ce-e7f7-4232-e62c-fc085f003ae8"
      },
      "source": [
        "det_C = np.linalg.det(C)\n",
        "print(det_C)"
      ],
      "execution_count": 23,
      "outputs": [
        {
          "output_type": "stream",
          "name": "stdout",
          "text": [
            "5.000000000000001\n"
          ]
        }
      ]
    },
    {
      "cell_type": "markdown",
      "metadata": {
        "id": "gi4ZmVT45Bsm"
      },
      "source": [
        "Question 6. Find the roots of the linear equations by showing its python codes (30 points)\n",
        "\n",
        "5X1 + 4X2 + X3 = 3.4\n",
        "\n",
        "10X1 + 9X2 + 4X3 = 8.8\n",
        "\n",
        "10X1 + 13X2 + 15X3 = 19.2"
      ]
    },
    {
      "cell_type": "code",
      "metadata": {
        "colab": {
          "base_uri": "https://localhost:8080/"
        },
        "id": "udV9PDzU5B4v",
        "outputId": "7d22684a-a9da-4460-eec6-6439301a4ea0"
      },
      "source": [
        "A = np.array([[5,4,1],[10,9,4],[10,13,15]])\n",
        "B = np.array([[3.4],[8.8],[19.2]])\n",
        "X = np.linalg.inv(A).dot(B)\n",
        "print(X)"
      ],
      "execution_count": 27,
      "outputs": [
        {
          "output_type": "stream",
          "name": "stdout",
          "text": [
            "[[0.2]\n",
            " [0.4]\n",
            " [0.8]]\n"
          ]
        }
      ]
    }
  ]
}