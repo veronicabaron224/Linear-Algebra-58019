{
  "nbformat": 4,
  "nbformat_minor": 0,
  "metadata": {
    "colab": {
      "name": "Application",
      "provenance": [],
      "authorship_tag": "ABX9TyNBOyhL9bPGHj30LS1nVU9C",
      "include_colab_link": true
    },
    "kernelspec": {
      "name": "python3",
      "display_name": "Python 3"
    },
    "language_info": {
      "name": "python"
    }
  },
  "cells": [
    {
      "cell_type": "markdown",
      "metadata": {
        "id": "view-in-github",
        "colab_type": "text"
      },
      "source": [
        "<a href=\"https://colab.research.google.com/github/veronicabaron224/Linear-Algebra-58019/blob/main/Application.ipynb\" target=\"_parent\"><img src=\"https://colab.research.google.com/assets/colab-badge.svg\" alt=\"Open In Colab\"/></a>"
      ]
    },
    {
      "cell_type": "markdown",
      "metadata": {
        "id": "5GhVTuK4EmyS"
      },
      "source": [
        "**The price of one apple and one orange**"
      ]
    },
    {
      "cell_type": "code",
      "metadata": {
        "colab": {
          "base_uri": "https://localhost:8080/"
        },
        "id": "X9_ZzOBWEjdW",
        "outputId": "6d691e25-1ea7-4146-d9f7-c6fb7f0f7f7e"
      },
      "source": [
        "import numpy as np\n",
        "from scipy.linalg import solve\n",
        "\n",
        "A = np.array([[20,10],[17,22]])\n",
        "B = np.array([[350],[500]])\n",
        "print(A)\n",
        "print(B)\n",
        "\n",
        "#Method 1 - Using scipy\n",
        "X = solve(A,B)\n",
        "print(X)"
      ],
      "execution_count": 5,
      "outputs": [
        {
          "output_type": "stream",
          "name": "stdout",
          "text": [
            "[[20 10]\n",
            " [17 22]]\n",
            "[[350]\n",
            " [500]]\n",
            "[[10.]\n",
            " [15.]]\n"
          ]
        }
      ]
    },
    {
      "cell_type": "code",
      "metadata": {
        "colab": {
          "base_uri": "https://localhost:8080/"
        },
        "id": "aHCLbm5SHLoz",
        "outputId": "4dc35e66-b5da-4bc2-d53b-f8408a7a4101"
      },
      "source": [
        "#Method 2 - Direct solution\n",
        "inv_A = np.linalg.inv(A)\n",
        "print(inv_A)\n",
        "X = np.linalg.inv(A).dot(B)\n",
        "print(X)"
      ],
      "execution_count": 3,
      "outputs": [
        {
          "output_type": "stream",
          "name": "stdout",
          "text": [
            "[[ 0.08148148 -0.03703704]\n",
            " [-0.06296296  0.07407407]]\n",
            "[[10.]\n",
            " [15.]]\n"
          ]
        }
      ]
    },
    {
      "cell_type": "code",
      "metadata": {
        "colab": {
          "base_uri": "https://localhost:8080/"
        },
        "id": "B0TkS8gyH-iV",
        "outputId": "39e46521-385a-486f-9a64-6674070d670a"
      },
      "source": [
        "#Method 3 - Using dot product\n",
        "X = np.dot(inv_A,B)\n",
        "print(X)"
      ],
      "execution_count": 4,
      "outputs": [
        {
          "output_type": "stream",
          "name": "stdout",
          "text": [
            "[[10.]\n",
            " [15.]]\n"
          ]
        }
      ]
    },
    {
      "cell_type": "code",
      "metadata": {
        "id": "l2b5Efr1K5Xj"
      },
      "source": [
        "#Method 4 - Using linalg.solve\n",
        "X = np.linalg.solve(A,B)\n",
        "print(X)"
      ],
      "execution_count": null,
      "outputs": []
    },
    {
      "cell_type": "markdown",
      "metadata": {
        "id": "kXpib4eZLKsf"
      },
      "source": [
        "**Solving for three linear equations with unknown variables of x, y, and z**"
      ]
    },
    {
      "cell_type": "code",
      "metadata": {
        "colab": {
          "base_uri": "https://localhost:8080/"
        },
        "id": "STmZhmdiLWKS",
        "outputId": "5c7fdb6d-072b-49ac-859f-c9f32c61d305"
      },
      "source": [
        "#4x+3y+2z=25\n",
        "#-2z+2y+3z=-10\n",
        "#3x-5y+2z=-4\n",
        "\n",
        "matrix = ([[4,3,2],[-2,2,3],[3,-5,2]])\n",
        "const = ([[25],[-10],[-4]])\n",
        "ans = np.linalg.solve(matrix,const)\n",
        "print(ans)"
      ],
      "execution_count": 7,
      "outputs": [
        {
          "output_type": "stream",
          "name": "stdout",
          "text": [
            "[[ 5.]\n",
            " [ 3.]\n",
            " [-2.]]\n"
          ]
        }
      ]
    }
  ]
}