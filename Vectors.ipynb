{
  "nbformat": 4,
  "nbformat_minor": 0,
  "metadata": {
    "colab": {
      "name": "Linear Algebra: Vectors",
      "provenance": [],
      "authorship_tag": "ABX9TyMAZXZaC3s0J7mQKYHrGaXG",
      "include_colab_link": true
    },
    "kernelspec": {
      "name": "python3",
      "display_name": "Python 3"
    },
    "language_info": {
      "name": "python"
    }
  },
  "cells": [
    {
      "cell_type": "markdown",
      "metadata": {
        "id": "view-in-github",
        "colab_type": "text"
      },
      "source": [
        "<a href=\"https://colab.research.google.com/github/veronicabaron224/Linear-Algebra-58019/blob/main/Vectors.ipynb\" target=\"_parent\"><img src=\"https://colab.research.google.com/assets/colab-badge.svg\" alt=\"Open In Colab\"/></a>"
      ]
    },
    {
      "cell_type": "markdown",
      "metadata": {
        "id": "8C8sxxVZ0pkJ"
      },
      "source": [
        "**Matrix Algebra**"
      ]
    },
    {
      "cell_type": "markdown",
      "metadata": {
        "id": "oOEwYE-T1Gp3"
      },
      "source": [
        "Numpy is a library that can allow you to create multi-dimensional arrays. It stands for *numerical python*"
      ]
    },
    {
      "cell_type": "code",
      "metadata": {
        "colab": {
          "base_uri": "https://localhost:8080/"
        },
        "id": "Tm44qsLQ0jL3",
        "outputId": "21fa1fbd-f81b-4736-b5c2-ce98f3804ed4"
      },
      "source": [
        "#numpy\n",
        "import numpy as np\n",
        "\n",
        "a = np.array([1,2,3]) #This is an example of 1x3 matrix\n",
        "print(a)"
      ],
      "execution_count": null,
      "outputs": [
        {
          "output_type": "stream",
          "name": "stdout",
          "text": [
            "[1 2 3]\n"
          ]
        }
      ]
    },
    {
      "cell_type": "code",
      "metadata": {
        "colab": {
          "base_uri": "https://localhost:8080/"
        },
        "id": "oinKkyRz1s_d",
        "outputId": "2b66b021-8995-4022-8f5b-8ce500d7e2f9"
      },
      "source": [
        "import numpy as np\n",
        "\n",
        "b = np.array([[1,2,3],[4,5,6]]) #This is an example of 2x3 matrix; it is a rectangular matrix \n",
        "print(b)"
      ],
      "execution_count": null,
      "outputs": [
        {
          "output_type": "stream",
          "name": "stdout",
          "text": [
            "[[1 2 3]\n",
            " [4 5 6]]\n"
          ]
        }
      ]
    },
    {
      "cell_type": "code",
      "metadata": {
        "colab": {
          "base_uri": "https://localhost:8080/"
        },
        "id": "Js4HuFtR2AYW",
        "outputId": "3f727579-4439-4aa8-9eb4-d930eeaae657"
      },
      "source": [
        "import numpy as np\n",
        "\n",
        "c = np.array([[1,2,3],[4,5,6],[7,8,9]]) #This is an example of 3x3 matrix; it is a square matrix\n",
        "print(c)"
      ],
      "execution_count": null,
      "outputs": [
        {
          "output_type": "stream",
          "name": "stdout",
          "text": [
            "[[1 2 3]\n",
            " [4 5 6]\n",
            " [7 8 9]]\n"
          ]
        }
      ]
    },
    {
      "cell_type": "code",
      "metadata": {
        "colab": {
          "base_uri": "https://localhost:8080/"
        },
        "id": "XmX_yJ5Y26Yw",
        "outputId": "5d7eae2b-f9e0-4bf9-b6a6-5a8966182a41"
      },
      "source": [
        "import numpy as np\n",
        "\n",
        "d = np.full((3,3),7) #In which you input the size first and then the fill value\n",
        "print(d)"
      ],
      "execution_count": null,
      "outputs": [
        {
          "output_type": "stream",
          "name": "stdout",
          "text": [
            "[[7 7 7]\n",
            " [7 7 7]\n",
            " [7 7 7]]\n"
          ]
        }
      ]
    },
    {
      "cell_type": "code",
      "metadata": {
        "colab": {
          "base_uri": "https://localhost:8080/"
        },
        "id": "tNwnt_uM3LUr",
        "outputId": "214820fe-b249-45af-f61d-e44ae1b2eb58"
      },
      "source": [
        "import numpy as np\n",
        "\n",
        "e = np.array([[1,2,3],[4,5,6],[7,8,9]])\n",
        "print(e)\n",
        "e = np.diagonal([[1,2,3],[4,5,6],[7,8,9]]) #This will only take the values of the diagonal\n",
        "print(e)"
      ],
      "execution_count": null,
      "outputs": [
        {
          "output_type": "stream",
          "name": "stdout",
          "text": [
            "[[1 2 3]\n",
            " [4 5 6]\n",
            " [7 8 9]]\n",
            "[1 5 9]\n"
          ]
        }
      ]
    },
    {
      "cell_type": "code",
      "metadata": {
        "colab": {
          "base_uri": "https://localhost:8080/"
        },
        "id": "DYoTSICW3Swp",
        "outputId": "a3569076-dbbb-484f-f66d-16c86ce62329"
      },
      "source": [
        "import numpy as np\n",
        "\n",
        "f = np.eye(3) #This is an identity matrix. Identity matrices are always square\n",
        "print(f)"
      ],
      "execution_count": null,
      "outputs": [
        {
          "output_type": "stream",
          "name": "stdout",
          "text": [
            "[[1. 0. 0.]\n",
            " [0. 1. 0.]\n",
            " [0. 0. 1.]]\n"
          ]
        }
      ]
    },
    {
      "cell_type": "code",
      "metadata": {
        "colab": {
          "base_uri": "https://localhost:8080/"
        },
        "id": "5c2NJfL1349u",
        "outputId": "734be969-234b-4e82-cc8d-173b6484827f"
      },
      "source": [
        "import numpy as np\n",
        "\n",
        "g = np.zeros((3,3)) #This is a zero matrix where all elements are zero\n",
        "print(g)"
      ],
      "execution_count": null,
      "outputs": [
        {
          "output_type": "stream",
          "name": "stdout",
          "text": [
            "[[0. 0. 0.]\n",
            " [0. 0. 0.]\n",
            " [0. 0. 0.]]\n"
          ]
        }
      ]
    },
    {
      "cell_type": "code",
      "metadata": {
        "colab": {
          "base_uri": "https://localhost:8080/"
        },
        "id": "8O5Zkrqf4U08",
        "outputId": "cf6f34d1-cddf-4476-dfc1-b5af80cdc792"
      },
      "source": [
        "import numpy as np\n",
        "\n",
        "h = np.empty((0,12)) #This creates an empty matrix; no elements\n",
        "print(h)"
      ],
      "execution_count": null,
      "outputs": [
        {
          "output_type": "stream",
          "name": "stdout",
          "text": [
            "[]\n"
          ]
        }
      ]
    },
    {
      "cell_type": "code",
      "metadata": {
        "colab": {
          "base_uri": "https://localhost:8080/"
        },
        "id": "q_CTksKb4a6y",
        "outputId": "cb4219c8-f6c8-4974-ebe1-ded1c82fc558"
      },
      "source": [
        "import numpy as np\n",
        "\n",
        "i = np.full((3,3),7) #Addition\n",
        "print(i+i)"
      ],
      "execution_count": null,
      "outputs": [
        {
          "output_type": "stream",
          "name": "stdout",
          "text": [
            "[[14 14 14]\n",
            " [14 14 14]\n",
            " [14 14 14]]\n"
          ]
        }
      ]
    },
    {
      "cell_type": "code",
      "metadata": {
        "colab": {
          "base_uri": "https://localhost:8080/"
        },
        "id": "3mDCieZR43Nz",
        "outputId": "7f91d5b6-81bb-4c7e-fac4-26544b06636c"
      },
      "source": [
        "import numpy as np\n",
        "\n",
        "j = np.full((3,3),7) #Subtraction\n",
        "print(j-j)"
      ],
      "execution_count": null,
      "outputs": [
        {
          "output_type": "stream",
          "name": "stdout",
          "text": [
            "[[0 0 0]\n",
            " [0 0 0]\n",
            " [0 0 0]]\n"
          ]
        }
      ]
    }
  ]
}