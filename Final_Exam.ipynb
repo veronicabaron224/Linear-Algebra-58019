{
  "nbformat": 4,
  "nbformat_minor": 0,
  "metadata": {
    "colab": {
      "name": "Final Exam",
      "provenance": [],
      "collapsed_sections": [],
      "authorship_tag": "ABX9TyOQHqbhOZh9y9IRX0OeWkD5",
      "include_colab_link": true
    },
    "kernelspec": {
      "name": "python3",
      "display_name": "Python 3"
    },
    "language_info": {
      "name": "python"
    }
  },
  "cells": [
    {
      "cell_type": "markdown",
      "metadata": {
        "id": "view-in-github",
        "colab_type": "text"
      },
      "source": [
        "<a href=\"https://colab.research.google.com/github/veronicabaron224/Linear-Algebra-58019/blob/main/Final_Exam.ipynb\" target=\"_parent\"><img src=\"https://colab.research.google.com/assets/colab-badge.svg\" alt=\"Open In Colab\"/></a>"
      ]
    },
    {
      "cell_type": "code",
      "source": [
        "import numpy as np\n",
        "from numpy.linalg import eig"
      ],
      "metadata": {
        "id": "UiHWySJPHk_V"
      },
      "execution_count": 2,
      "outputs": []
    },
    {
      "cell_type": "markdown",
      "source": [
        "**Problem 1. Student A, Student B, and Student C have a total of Php 89 cash in their banks. Student A has 6 less than Student C. Student B has 3 times what Student C has. How much does each student have? (30 points)**"
      ],
      "metadata": {
        "id": "QcfyGGYDGesU"
      }
    },
    {
      "cell_type": "code",
      "execution_count": 7,
      "metadata": {
        "colab": {
          "base_uri": "https://localhost:8080/"
        },
        "id": "d3dLxgrtGdKU",
        "outputId": "332293e9-25e8-42ee-fc27-32694572df7e"
      },
      "outputs": [
        {
          "output_type": "stream",
          "name": "stdout",
          "text": [
            "[[13.]\n",
            " [57.]\n",
            " [19.]]\n"
          ]
        }
      ],
      "source": [
        "eq1 = np.array([[1,1,1],[1,0,4],[0,0,5]])\n",
        "eq2 = np.array([[89],[89],[95]])\n",
        "amt = np.linalg.inv(eq1).dot(eq2)\n",
        "print(amt)"
      ]
    },
    {
      "cell_type": "markdown",
      "source": [
        "**Problem 2. Solve each system: (30 points)**\n",
        "\n",
        "3x - y + z = 5\n",
        "\n",
        "9x - 3y +3z = 15\n",
        "\n",
        "-12x +4y -4z = -20\n",
        "\n",
        "\n",
        "*   The comment line below causes an error because the array is a singular matrix. Singular matrices have a determinant of 0, and thus have no inverse."
      ],
      "metadata": {
        "id": "y3BcYOEkGpXo"
      }
    },
    {
      "cell_type": "code",
      "source": [
        "X = np.array([[3,-1,1],[9,-3,3],[-12,4,-4]])\n",
        "Y = np.array([[5],[15],[-20]])\n",
        "print(X)\n",
        "print(Y)\n",
        "#ans = np.linalg.inv(X).dot(Y)"
      ],
      "metadata": {
        "colab": {
          "base_uri": "https://localhost:8080/"
        },
        "id": "MYzme8_zGvC4",
        "outputId": "e7ce1f84-1160-4e2e-a4e3-9bdc8eaaed1e"
      },
      "execution_count": 8,
      "outputs": [
        {
          "output_type": "stream",
          "name": "stdout",
          "text": [
            "[[  3  -1   1]\n",
            " [  9  -3   3]\n",
            " [-12   4  -4]]\n",
            "[[  5]\n",
            " [ 15]\n",
            " [-20]]\n"
          ]
        }
      ]
    },
    {
      "cell_type": "markdown",
      "source": [
        "**Problem 3. Consider the matrix, (40 points)**\n",
        "\n",
        "![image.png](data:image/png;base64,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)\n",
        "\n",
        "1. Find the eigenvalue/s\n",
        "2. Find the eigenvectors"
      ],
      "metadata": {
        "id": "WSmsvldUGvT_"
      }
    },
    {
      "cell_type": "code",
      "source": [
        "A = np.array([[8,5,-6],[-12,-9,12],[-3,-3,5]])\n",
        "s,t = np.linalg.eig(A)\n",
        "print(\"The eigenvalue/s is/are:\", s)\n",
        "print(\"The right eigenvectors are:\", t)"
      ],
      "metadata": {
        "colab": {
          "base_uri": "https://localhost:8080/"
        },
        "id": "S8iILgSxG2QW",
        "outputId": "4a656727-7383-4f5c-8aa5-293337923526"
      },
      "execution_count": 3,
      "outputs": [
        {
          "output_type": "stream",
          "name": "stdout",
          "text": [
            "The eigenvalue/s is/are: [-1.  3.  2.]\n",
            "The right eigenvectors are: [[ 3.01511345e-01 -7.07106781e-01  7.07106781e-01]\n",
            " [-9.04534034e-01  7.07106781e-01  1.53837015e-15]\n",
            " [-3.01511345e-01 -2.26120075e-15  7.07106781e-01]]\n"
          ]
        }
      ]
    }
  ]
}