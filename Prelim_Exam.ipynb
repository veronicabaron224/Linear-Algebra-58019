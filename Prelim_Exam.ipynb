{
  "nbformat": 4,
  "nbformat_minor": 0,
  "metadata": {
    "colab": {
      "name": "Prelim Exam",
      "provenance": [],
      "authorship_tag": "ABX9TyM/ta5w5UBVn561aSzGMS5K",
      "include_colab_link": true
    },
    "kernelspec": {
      "name": "python3",
      "display_name": "Python 3"
    },
    "language_info": {
      "name": "python"
    }
  },
  "cells": [
    {
      "cell_type": "markdown",
      "metadata": {
        "id": "view-in-github",
        "colab_type": "text"
      },
      "source": [
        "<a href=\"https://colab.research.google.com/github/veronicabaron224/Linear-Algebra-58019/blob/main/Prelim_Exam.ipynb\" target=\"_parent\"><img src=\"https://colab.research.google.com/assets/colab-badge.svg\" alt=\"Open In Colab\"/></a>"
      ]
    },
    {
      "cell_type": "code",
      "metadata": {
        "id": "NMC8eQj9ioVg"
      },
      "source": [
        "import numpy as np #Importing of NumPy. This code was ran first to make numpy usable in all other code cells."
      ],
      "execution_count": 1,
      "outputs": []
    },
    {
      "cell_type": "markdown",
      "metadata": {
        "id": "VLvpWg2Og34K"
      },
      "source": [
        "**Question 1.** (20 points) Create a 4 x 4 matrix whose diagonal elements are all one (1's). Name it as matrix \"C\". Show your solutions using Python codes and do not forget to label them on the Text Cell."
      ]
    },
    {
      "cell_type": "code",
      "metadata": {
        "id": "7xej6WQIgmIW",
        "colab": {
          "base_uri": "https://localhost:8080/"
        },
        "outputId": "2d473364-14d8-463d-a3b6-5ecc1e0531d0"
      },
      "source": [
        "C = np.identity(4) #Use of the identity matrix, which fills the main diagonal with 1.\n",
        "print(C) #Printing of matrix \"C\""
      ],
      "execution_count": 2,
      "outputs": [
        {
          "output_type": "stream",
          "name": "stdout",
          "text": [
            "[[1. 0. 0. 0.]\n",
            " [0. 1. 0. 0.]\n",
            " [0. 0. 1. 0.]\n",
            " [0. 0. 0. 1.]]\n"
          ]
        }
      ]
    },
    {
      "cell_type": "markdown",
      "metadata": {
        "id": "CPJMnnCHg9fG"
      },
      "source": [
        "**Question 2.** (20 points) In relation to Question 1, show a solution that doubles all the values of each element. Show your solutions using Python codes and do not forget to label them on the Text Cell."
      ]
    },
    {
      "cell_type": "code",
      "metadata": {
        "id": "giBrClhThBI7",
        "colab": {
          "base_uri": "https://localhost:8080/"
        },
        "outputId": "474ad585-cb25-411f-e5f4-30856daf56fd"
      },
      "source": [
        "double = 2*C #Doubles the values of matrix \"C\"\n",
        "print(double) #Prints doubled matrix \"C\""
      ],
      "execution_count": 3,
      "outputs": [
        {
          "output_type": "stream",
          "name": "stdout",
          "text": [
            "[[2. 0. 0. 0.]\n",
            " [0. 2. 0. 0.]\n",
            " [0. 0. 2. 0.]\n",
            " [0. 0. 0. 2.]]\n"
          ]
        }
      ]
    },
    {
      "cell_type": "markdown",
      "metadata": {
        "id": "wUiF90EQhB89"
      },
      "source": [
        "**Question 3.** (10 points) Find the cross-product of matrices, A = [2,7,4] and B = [3,9,8]. Show your solutions using Python codes and do not forget to label them on the Text Cell."
      ]
    },
    {
      "cell_type": "code",
      "metadata": {
        "id": "burg3H3FhHgT",
        "colab": {
          "base_uri": "https://localhost:8080/"
        },
        "outputId": "a2083ec8-fb67-4967-f9f3-ce823ea635b9"
      },
      "source": [
        "A = [2,7,4] #Matrix A\n",
        "B = [3,9,8] #Matrix B\n",
        "\n",
        "cross = np.cross(A,B) #Calculates the cross product of matrix A and B\n",
        "print(cross)"
      ],
      "execution_count": 4,
      "outputs": [
        {
          "output_type": "stream",
          "name": "stdout",
          "text": [
            "[20 -4 -3]\n"
          ]
        }
      ]
    }
  ]
}