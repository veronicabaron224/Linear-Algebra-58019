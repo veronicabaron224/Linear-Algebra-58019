{
  "nbformat": 4,
  "nbformat_minor": 0,
  "metadata": {
    "colab": {
      "name": "Linear Algebra: Python Exercise 1",
      "provenance": [],
      "authorship_tag": "ABX9TyPwbEIU1hdscnhHQyDGTGeh",
      "include_colab_link": true
    },
    "kernelspec": {
      "name": "python3",
      "display_name": "Python 3"
    },
    "language_info": {
      "name": "python"
    }
  },
  "cells": [
    {
      "cell_type": "markdown",
      "metadata": {
        "id": "view-in-github",
        "colab_type": "text"
      },
      "source": [
        "<a href=\"https://colab.research.google.com/github/veronicabaron224/Linear-Algebra-58019/blob/main/Python_Exercise_1.ipynb\" target=\"_parent\"><img src=\"https://colab.research.google.com/assets/colab-badge.svg\" alt=\"Open In Colab\"/></a>"
      ]
    },
    {
      "cell_type": "markdown",
      "metadata": {
        "id": "fgeONnRJ7zLr"
      },
      "source": [
        "**Matrix and its Operations**"
      ]
    },
    {
      "cell_type": "markdown",
      "metadata": {
        "id": "3W1_MGrk8JUS"
      },
      "source": [
        "Create a NumPy program that performs the operations of the given matrices:\n",
        "\n",
        "    sum = A + B\n",
        "    difference1 = B - A\n",
        "    difference2 = A - B"
      ]
    },
    {
      "cell_type": "code",
      "metadata": {
        "colab": {
          "base_uri": "https://localhost:8080/"
        },
        "id": "Qvltsh-F7wPk",
        "outputId": "d850186f-bda2-48f5-bbc2-c61fe6193073"
      },
      "source": [
        "import numpy as np\n",
        "\n",
        "#Given\n",
        "A = np.array([[-5,0],[4,1]])\n",
        "B = np.array([[6,-3],[2,3]])"
      ],
      "execution_count": 5,
      "outputs": [
        {
          "output_type": "stream",
          "name": "stdout",
          "text": [
            "[[ 1 -3]\n",
            " [ 6  4]]\n",
            "[[11 -3]\n",
            " [-2  2]]\n",
            "[[-11   3]\n",
            " [  2  -2]]\n"
          ]
        }
      ]
    },
    {
      "cell_type": "code",
      "metadata": {
        "colab": {
          "base_uri": "https://localhost:8080/"
        },
        "id": "OLrRREGH9T75",
        "outputId": "a7f847e9-4add-4a1e-b2a7-bd8dd10743a8"
      },
      "source": [
        "#Sum\n",
        "print(A+B)"
      ],
      "execution_count": 8,
      "outputs": [
        {
          "output_type": "stream",
          "name": "stdout",
          "text": [
            "[[ 1 -3]\n",
            " [ 6  4]]\n"
          ]
        }
      ]
    },
    {
      "cell_type": "code",
      "metadata": {
        "colab": {
          "base_uri": "https://localhost:8080/"
        },
        "id": "PjZ1Q-vU9YBO",
        "outputId": "3dd9fb9f-26af-47b1-af54-205873be8673"
      },
      "source": [
        "#Difference 1\n",
        "print(B-A)"
      ],
      "execution_count": 9,
      "outputs": [
        {
          "output_type": "stream",
          "name": "stdout",
          "text": [
            "[[11 -3]\n",
            " [-2  2]]\n"
          ]
        }
      ]
    },
    {
      "cell_type": "code",
      "metadata": {
        "colab": {
          "base_uri": "https://localhost:8080/"
        },
        "id": "X513DvGG9Yt4",
        "outputId": "22acd8d5-14b9-4fb1-97c1-f8e7c93c3987"
      },
      "source": [
        "#Difference 2\n",
        "print(A-B)"
      ],
      "execution_count": 10,
      "outputs": [
        {
          "output_type": "stream",
          "name": "stdout",
          "text": [
            "[[-11   3]\n",
            " [  2  -2]]\n"
          ]
        }
      ]
    }
  ]
}