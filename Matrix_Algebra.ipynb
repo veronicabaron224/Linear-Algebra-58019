{
  "nbformat": 4,
  "nbformat_minor": 0,
  "metadata": {
    "colab": {
      "name": "Linear Algebra: Matrix Algebra",
      "provenance": [],
      "collapsed_sections": [],
      "authorship_tag": "ABX9TyPy8DmeT4HqTv6CXg486zWK",
      "include_colab_link": true
    },
    "kernelspec": {
      "name": "python3",
      "display_name": "Python 3"
    },
    "language_info": {
      "name": "python"
    }
  },
  "cells": [
    {
      "cell_type": "markdown",
      "metadata": {
        "id": "view-in-github",
        "colab_type": "text"
      },
      "source": [
        "<a href=\"https://colab.research.google.com/github/veronicabaron224/Linear-Algebra-58019/blob/main/Matrix_Algebra.ipynb\" target=\"_parent\"><img src=\"https://colab.research.google.com/assets/colab-badge.svg\" alt=\"Open In Colab\"/></a>"
      ]
    },
    {
      "cell_type": "markdown",
      "metadata": {
        "id": "K8Y5ii9wzf1S"
      },
      "source": [
        "**Python Program to Inverse**"
      ]
    },
    {
      "cell_type": "code",
      "metadata": {
        "colab": {
          "base_uri": "https://localhost:8080/"
        },
        "id": "RG7b_BXjyoGX",
        "outputId": "fdc50fc3-42d8-4635-9036-b1641be56e61"
      },
      "source": [
        "import numpy as np\n",
        "\n",
        "A = np.array([[1,2],[4,7]])\n",
        "print(A)\n",
        "invA = np.linalg.inv(A) #The argument for this function must be a matrix\n",
        "print(invA)"
      ],
      "execution_count": 25,
      "outputs": [
        {
          "output_type": "stream",
          "name": "stdout",
          "text": [
            "[[1 2]\n",
            " [4 7]]\n",
            "[[-7.  2.]\n",
            " [ 4. -1.]]\n"
          ]
        }
      ]
    },
    {
      "cell_type": "code",
      "metadata": {
        "colab": {
          "base_uri": "https://localhost:8080/"
        },
        "id": "P2KGiNPu31tI",
        "outputId": "2d713d62-856d-4d53-e1d2-11710ac60691"
      },
      "source": [
        "C = np.dot(A,invA)\n",
        "print(C)"
      ],
      "execution_count": 26,
      "outputs": [
        {
          "output_type": "stream",
          "name": "stdout",
          "text": [
            "[[1. 0.]\n",
            " [0. 1.]]\n"
          ]
        }
      ]
    },
    {
      "cell_type": "markdown",
      "metadata": {
        "id": "PMpKVxg55A1f"
      },
      "source": [
        "**Python Program to Transpose**\n"
      ]
    },
    {
      "cell_type": "code",
      "metadata": {
        "colab": {
          "base_uri": "https://localhost:8080/"
        },
        "id": "-hmyQZf_5YGE",
        "outputId": "41fffa64-dc7c-4bb0-bc88-5505b7f4a90d"
      },
      "source": [
        "#Python to program to transpose a 3x3 matrix, A = ([[6,1,1],[4,-2,5],[2,8,7])\n",
        "\n",
        "A = np.array([[6,1,1],[4,-2,5],[2,8,7]])\n",
        "print(A)\n",
        "B = np.transpose(A)\n",
        "print(B)"
      ],
      "execution_count": 22,
      "outputs": [
        {
          "output_type": "stream",
          "name": "stdout",
          "text": [
            "[[ 6  1  1]\n",
            " [ 4 -2  5]\n",
            " [ 2  8  7]]\n",
            "[[ 6  4  2]\n",
            " [ 1 -2  8]\n",
            " [ 1  5  7]]\n"
          ]
        }
      ]
    },
    {
      "cell_type": "code",
      "metadata": {
        "colab": {
          "base_uri": "https://localhost:8080/"
        },
        "id": "e8yLzQmb6vBE",
        "outputId": "091c14a6-f0eb-4e44-a251-f43f09a079ea"
      },
      "source": [
        "#Python to program to inverse a 3x3 matrix, A = ([[6,1,1],[4,-2,5],[2,8,7]])\n",
        "\n",
        "B = np.linalg.inv(A)\n",
        "print(B)"
      ],
      "execution_count": 23,
      "outputs": [
        {
          "output_type": "stream",
          "name": "stdout",
          "text": [
            "[[ 0.17647059 -0.00326797 -0.02287582]\n",
            " [ 0.05882353 -0.13071895  0.08496732]\n",
            " [-0.11764706  0.1503268   0.05228758]]\n"
          ]
        }
      ]
    },
    {
      "cell_type": "code",
      "metadata": {
        "colab": {
          "base_uri": "https://localhost:8080/"
        },
        "id": "WtpBasbX8GFE",
        "outputId": "42c9aaa3-3d2c-492a-97b2-403658ef3d22"
      },
      "source": [
        "#Python to program to product a 3x3 matrix, A = ([[6,1,1],[4,-2,5],[2,8,7]])\n",
        "\n",
        "productAB = np.dot(A,B)\n",
        "print(productAB)"
      ],
      "execution_count": 24,
      "outputs": [
        {
          "output_type": "stream",
          "name": "stdout",
          "text": [
            "[[ 1.00000000e+00  0.00000000e+00  2.77555756e-17]\n",
            " [-1.38777878e-17  1.00000000e+00  1.38777878e-17]\n",
            " [-4.16333634e-17  1.38777878e-16  1.00000000e+00]]\n"
          ]
        }
      ]
    },
    {
      "cell_type": "markdown",
      "metadata": {
        "id": "XctOhvt9-1Wy"
      },
      "source": [
        "Coding Exercise 3\n",
        "\n",
        "*   Create a Python Program to inverse and transpose a 4x4 matrix, A = ( [6,1,1,3],[4,-2,5,1],[2,8,7,6],[3,1,9,7] )\n",
        "\n"
      ]
    },
    {
      "cell_type": "code",
      "metadata": {
        "colab": {
          "base_uri": "https://localhost:8080/"
        },
        "id": "gItqoR_X-6qZ",
        "outputId": "f5574cc1-36f2-4312-86bd-eeb7eac54676"
      },
      "source": [
        "A = ([[6,1,1,3],[4,-2,5,1],[2,8,7,6],[3,1,9,7]])\n",
        "invA = np.linalg.inv(A)\n",
        "print(invA)"
      ],
      "execution_count": 30,
      "outputs": [
        {
          "output_type": "stream",
          "name": "stdout",
          "text": [
            "[[ 0.13368984  0.10695187  0.02139037 -0.09090909]\n",
            " [-0.00229183  0.02673797  0.14820474 -0.12987013]\n",
            " [-0.12987013  0.18181818  0.06493506 -0.02597403]\n",
            " [ 0.11000764 -0.28342246 -0.11382735  0.23376623]]\n"
          ]
        }
      ]
    },
    {
      "cell_type": "code",
      "metadata": {
        "colab": {
          "base_uri": "https://localhost:8080/"
        },
        "id": "OfqX6l-d_RAx",
        "outputId": "5e83ceb9-5900-40ac-e60c-792abdd1ace8"
      },
      "source": [
        "transA = np.transpose(A)\n",
        "print(transA)"
      ],
      "execution_count": 33,
      "outputs": [
        {
          "output_type": "stream",
          "name": "stdout",
          "text": [
            "[[ 6  4  2  3]\n",
            " [ 1 -2  8  1]\n",
            " [ 1  5  7  9]\n",
            " [ 3  1  6  7]]\n"
          ]
        }
      ]
    }
  ]
}