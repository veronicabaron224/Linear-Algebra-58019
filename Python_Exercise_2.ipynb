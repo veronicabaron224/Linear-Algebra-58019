{
  "nbformat": 4,
  "nbformat_minor": 0,
  "metadata": {
    "colab": {
      "name": "Linear Algebra 58019: Python Exercise 2",
      "provenance": [],
      "authorship_tag": "ABX9TyPiJkvL/qfrtLr3q6BA6GaD",
      "include_colab_link": true
    },
    "kernelspec": {
      "name": "python3",
      "display_name": "Python 3"
    },
    "language_info": {
      "name": "python"
    }
  },
  "cells": [
    {
      "cell_type": "markdown",
      "metadata": {
        "id": "view-in-github",
        "colab_type": "text"
      },
      "source": [
        "<a href=\"https://colab.research.google.com/github/veronicabaron224/Linear-Algebra-58019/blob/main/Python_Exercise_2.ipynb\" target=\"_parent\"><img src=\"https://colab.research.google.com/assets/colab-badge.svg\" alt=\"Open In Colab\"/></a>"
      ]
    },
    {
      "cell_type": "markdown",
      "metadata": {
        "id": "yySzKDaWnXKT"
      },
      "source": [
        "**Representing Vectors**\n",
        "\n",
        "Notes\n",
        "*   \"#\" can be placed before any text to change its size in a text cell; It represents 'heading'."
      ]
    },
    {
      "cell_type": "code",
      "metadata": {
        "colab": {
          "base_uri": "https://localhost:8080/"
        },
        "id": "pscvN9qTnYea",
        "outputId": "9b3796be-3d42-4aa4-e747-583b44febac1"
      },
      "source": [
        "import numpy as np\n",
        "A = np.array([4,3]) #This has one row\n",
        "B = np.array([2,-5]) #This also has one row\n",
        "print('Vector A is', A)\n",
        "print('Vector B is', B)"
      ],
      "execution_count": 3,
      "outputs": [
        {
          "output_type": "stream",
          "name": "stdout",
          "text": [
            "Vector A is [4 3]\n",
            "Vector B is [ 2 -5]\n"
          ]
        }
      ]
    },
    {
      "cell_type": "markdown",
      "metadata": {
        "id": "Z7rEd-9Ho0KJ"
      },
      "source": [
        "**Describing Vectors in NumPy**"
      ]
    },
    {
      "cell_type": "code",
      "metadata": {
        "colab": {
          "base_uri": "https://localhost:8080/"
        },
        "id": "0h1XSyF4pCgB",
        "outputId": "281795be-7355-405c-b77e-82d02033594d"
      },
      "source": [
        "import numpy as np\n",
        "ball1 = np.array([1,2,3])\n",
        "ball2 = np.array([0,1,-1])\n",
        "pool = np.array([ball1,ball2])\n",
        "pool.shape\n",
        "pool.ndim #Prints the dimensions of the array"
      ],
      "execution_count": 6,
      "outputs": [
        {
          "output_type": "execute_result",
          "data": {
            "text/plain": [
              "2"
            ]
          },
          "metadata": {},
          "execution_count": 6
        }
      ]
    },
    {
      "cell_type": "code",
      "metadata": {
        "colab": {
          "base_uri": "https://localhost:8080/"
        },
        "id": "Mb2C47leqxyw",
        "outputId": "a6131a81-e95c-4808-99e4-b318faf95e74"
      },
      "source": [
        "U = np.array([[1,2,3],[4,5,6]])\n",
        "U"
      ],
      "execution_count": 9,
      "outputs": [
        {
          "output_type": "execute_result",
          "data": {
            "text/plain": [
              "array([[1, 2, 3],\n",
              "       [4, 5, 6]])"
            ]
          },
          "metadata": {},
          "execution_count": 9
        }
      ]
    },
    {
      "cell_type": "code",
      "metadata": {
        "colab": {
          "base_uri": "https://localhost:8080/"
        },
        "id": "NvSnV1MZq_hn",
        "outputId": "5a4c89d7-21de-4b8d-82df-3d733324c73f"
      },
      "source": [
        "U = np.array([[1,2,3],[4,5,6]])\n",
        "U.shape"
      ],
      "execution_count": 10,
      "outputs": [
        {
          "output_type": "execute_result",
          "data": {
            "text/plain": [
              "(2, 3)"
            ]
          },
          "metadata": {},
          "execution_count": 10
        }
      ]
    },
    {
      "cell_type": "code",
      "metadata": {
        "colab": {
          "base_uri": "https://localhost:8080/"
        },
        "id": "1haTW5PcrA0w",
        "outputId": "f8475e36-a60d-4ce3-9330-6c32abb855f2"
      },
      "source": [
        "U = np.array([[1,2,3],[4,5,6]])\n",
        "U.ndim"
      ],
      "execution_count": 11,
      "outputs": [
        {
          "output_type": "execute_result",
          "data": {
            "text/plain": [
              "2"
            ]
          },
          "metadata": {},
          "execution_count": 11
        }
      ]
    },
    {
      "cell_type": "code",
      "metadata": {
        "colab": {
          "base_uri": "https://localhost:8080/"
        },
        "id": "AdlAgV5rrDcG",
        "outputId": "6735ffe2-6f0f-4d99-a94f-7ed495b2c40b"
      },
      "source": [
        "U = np.array([[1,2,3],[4,5,6]])\n",
        "U.size"
      ],
      "execution_count": 12,
      "outputs": [
        {
          "output_type": "execute_result",
          "data": {
            "text/plain": [
              "6"
            ]
          },
          "metadata": {},
          "execution_count": 12
        }
      ]
    },
    {
      "cell_type": "markdown",
      "metadata": {
        "id": "Dv2siJPXtSaY"
      },
      "source": [
        "**Space**\n",
        "\n",
        "Vector spaces are mathematical objects that abstractly capture the geometry and algebra of linear equations."
      ]
    },
    {
      "cell_type": "markdown",
      "metadata": {
        "id": "Beo-9jtVth4_"
      },
      "source": [
        "Addition of Vectors"
      ]
    },
    {
      "cell_type": "code",
      "metadata": {
        "colab": {
          "base_uri": "https://localhost:8080/"
        },
        "id": "K55qD_intfK9",
        "outputId": "9749d54b-a20f-45e7-d02a-e57074ffc721"
      },
      "source": [
        "addend1 = np.array([0,0,0])\n",
        "addend2 = np.array([1,1,0])\n",
        "sum = addend1 + addend2\n",
        "sum"
      ],
      "execution_count": 14,
      "outputs": [
        {
          "output_type": "execute_result",
          "data": {
            "text/plain": [
              "array([1, 1, 0])"
            ]
          },
          "metadata": {},
          "execution_count": 14
        }
      ]
    },
    {
      "cell_type": "code",
      "metadata": {
        "colab": {
          "base_uri": "https://localhost:8080/"
        },
        "id": "JXKD6HAWuBOf",
        "outputId": "fba15b95-e11d-49ed-d9a3-85fe294976dd"
      },
      "source": [
        "addend1 = np.array([0,0,0])\n",
        "addend2 = np.array([1,1,0])\n",
        "resultant = np.add(addend1,addend2)\n",
        "resultant"
      ],
      "execution_count": 19,
      "outputs": [
        {
          "output_type": "execute_result",
          "data": {
            "text/plain": [
              "array([1, 1, 0])"
            ]
          },
          "metadata": {},
          "execution_count": 19
        }
      ]
    },
    {
      "cell_type": "markdown",
      "metadata": {
        "id": "wqeaA-xKvCJn"
      },
      "source": [
        "Subtraction of Vectors"
      ]
    },
    {
      "cell_type": "code",
      "metadata": {
        "colab": {
          "base_uri": "https://localhost:8080/"
        },
        "id": "ghy_UKkbungZ",
        "outputId": "c7e55b0a-d558-452f-d75a-76d6625c45fc"
      },
      "source": [
        "difference = addend1 - addend2\n",
        "difference"
      ],
      "execution_count": 25,
      "outputs": [
        {
          "output_type": "execute_result",
          "data": {
            "text/plain": [
              "array([-1, -1,  0])"
            ]
          },
          "metadata": {},
          "execution_count": 25
        }
      ]
    },
    {
      "cell_type": "code",
      "metadata": {
        "colab": {
          "base_uri": "https://localhost:8080/"
        },
        "id": "rFIkWXoavsqZ",
        "outputId": "80256070-a1fc-408b-bcd4-2c483398f46e"
      },
      "source": [
        "difference2 = np.subtract(addend1,addend2)\n",
        "difference2"
      ],
      "execution_count": 28,
      "outputs": [
        {
          "output_type": "execute_result",
          "data": {
            "text/plain": [
              "array([-1, -1,  0])"
            ]
          },
          "metadata": {},
          "execution_count": 28
        }
      ]
    },
    {
      "cell_type": "markdown",
      "metadata": {
        "id": "ZZdFGk8Uwso8"
      },
      "source": [
        "Scaling"
      ]
    },
    {
      "cell_type": "code",
      "metadata": {
        "colab": {
          "base_uri": "https://localhost:8080/"
        },
        "id": "7Zncf-krwlbS",
        "outputId": "31596421-0bc8-4248-9e3c-eca251aa9b73"
      },
      "source": [
        "A = np.array([1,5,8,9])\n",
        "S = 5*A\n",
        "S"
      ],
      "execution_count": 30,
      "outputs": [
        {
          "output_type": "execute_result",
          "data": {
            "text/plain": [
              "array([ 5, 25, 40, 45])"
            ]
          },
          "metadata": {},
          "execution_count": 30
        }
      ]
    },
    {
      "cell_type": "markdown",
      "metadata": {
        "id": "712m4uwUyFnF"
      },
      "source": [
        "Cross Product"
      ]
    },
    {
      "cell_type": "code",
      "metadata": {
        "colab": {
          "base_uri": "https://localhost:8080/"
        },
        "id": "T1-Nq7L8x7Be",
        "outputId": "0ec2fcb7-b60a-4f42-80c6-8c7c215a030b"
      },
      "source": [
        "A = np.array([2,3])\n",
        "B = np.array([1,7])\n",
        "\n",
        "#Compute the cross product of A and B\n",
        "cross = np.cross(A,B)\n",
        "print(cross)"
      ],
      "execution_count": 31,
      "outputs": [
        {
          "output_type": "stream",
          "name": "stdout",
          "text": [
            "11\n"
          ]
        }
      ]
    },
    {
      "cell_type": "code",
      "metadata": {
        "colab": {
          "base_uri": "https://localhost:8080/"
        },
        "id": "_7eTHX9_y1Ck",
        "outputId": "346be06b-8867-49a0-92aa-1d466e5a721b"
      },
      "source": [
        "A = np.array([2,3,4])\n",
        "B = np.array([1,7,1])\n",
        "\n",
        "#Compute the cross product of A and B\n",
        "cross = np.cross(A,B)\n",
        "print(cross)"
      ],
      "execution_count": 32,
      "outputs": [
        {
          "output_type": "stream",
          "name": "stdout",
          "text": [
            "[-25   2  11]\n"
          ]
        }
      ]
    }
  ]
}