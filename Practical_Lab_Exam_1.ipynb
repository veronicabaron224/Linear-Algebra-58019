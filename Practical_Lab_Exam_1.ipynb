{
  "nbformat": 4,
  "nbformat_minor": 0,
  "metadata": {
    "colab": {
      "name": "Practical Lab Exam 1",
      "provenance": [],
      "authorship_tag": "ABX9TyNyNYj3F36Ritkrm9PcxtZp",
      "include_colab_link": true
    },
    "kernelspec": {
      "name": "python3",
      "display_name": "Python 3"
    },
    "language_info": {
      "name": "python"
    }
  },
  "cells": [
    {
      "cell_type": "markdown",
      "metadata": {
        "id": "view-in-github",
        "colab_type": "text"
      },
      "source": [
        "<a href=\"https://colab.research.google.com/github/veronicabaron224/Linear-Algebra-58019/blob/main/Practical_Lab_Exam_1.ipynb\" target=\"_parent\"><img src=\"https://colab.research.google.com/assets/colab-badge.svg\" alt=\"Open In Colab\"/></a>"
      ]
    },
    {
      "cell_type": "markdown",
      "metadata": {
        "id": "UD9x_UKKoMwO"
      },
      "source": [
        "**Problem 1**\n",
        "\n",
        "1. AB\n",
        "2. D + D\n",
        "3. 2C"
      ]
    },
    {
      "cell_type": "code",
      "metadata": {
        "id": "KgKj4SPpn9Fe"
      },
      "source": [
        "import numpy as np\n",
        "\n",
        "#Given Matrices\n",
        "A = np.array([[1,2,3],[4,5,6]])\n",
        "B = np.array([[1,2],[3,4],[5,6]])\n",
        "C = np.array([[1,2,3],[4,5,6],[7,8,9]])\n",
        "D = np.array([[1,2],[3,4]])"
      ],
      "execution_count": 11,
      "outputs": []
    },
    {
      "cell_type": "code",
      "metadata": {
        "colab": {
          "base_uri": "https://localhost:8080/"
        },
        "id": "5SdvS2oYp8SG",
        "outputId": "ca4b9e4c-e274-45d2-b090-d3aab39beee4"
      },
      "source": [
        "#AB\n",
        "prob1 = np.dot(A,B)\n",
        "print(prob1)"
      ],
      "execution_count": 29,
      "outputs": [
        {
          "output_type": "stream",
          "name": "stdout",
          "text": [
            "[[22 28]\n",
            " [49 64]]\n"
          ]
        }
      ]
    },
    {
      "cell_type": "code",
      "metadata": {
        "colab": {
          "base_uri": "https://localhost:8080/"
        },
        "id": "OHCFdN2NqRNc",
        "outputId": "94d3d3ab-670b-4225-8052-b181abad5a6b"
      },
      "source": [
        "#D+D\n",
        "prob2 = D + D\n",
        "print(prob2)"
      ],
      "execution_count": 15,
      "outputs": [
        {
          "output_type": "stream",
          "name": "stdout",
          "text": [
            "[[2 4]\n",
            " [6 8]]\n"
          ]
        }
      ]
    },
    {
      "cell_type": "code",
      "metadata": {
        "colab": {
          "base_uri": "https://localhost:8080/"
        },
        "id": "rUccwbZ-qWRs",
        "outputId": "88cfcd19-d2bf-43c7-a991-b27bb783e757"
      },
      "source": [
        "#2C\n",
        "prob3 = 2*C\n",
        "print(prob3)"
      ],
      "execution_count": 17,
      "outputs": [
        {
          "output_type": "stream",
          "name": "stdout",
          "text": [
            "[[ 2  4  6]\n",
            " [ 8 10 12]\n",
            " [14 16 18]]\n"
          ]
        }
      ]
    },
    {
      "cell_type": "markdown",
      "metadata": {
        "id": "M75JhHG4rNOM"
      },
      "source": [
        "**Problem 2**\n",
        "\n",
        "Given the linear combination below, try to create a corresponding matrix representing it and display its type, shape, and its dimension.\n",
        "\n",
        "$$\\theta = 5x + 3y - z$$"
      ]
    },
    {
      "cell_type": "code",
      "metadata": {
        "colab": {
          "base_uri": "https://localhost:8080/"
        },
        "id": "PsRmwmv0rUlk",
        "outputId": "57151adf-ca77-42ea-c965-24e27e69f288"
      },
      "source": [
        "#Given matrix\n",
        "matrix = np.array([5,3,-1])\n",
        "print(matrix) #With only one row and a number of columns (i.e., 3 columns), this is a row matrix"
      ],
      "execution_count": 50,
      "outputs": [
        {
          "output_type": "stream",
          "name": "stdout",
          "text": [
            "[ 5  3 -1]\n"
          ]
        }
      ]
    },
    {
      "cell_type": "code",
      "metadata": {
        "colab": {
          "base_uri": "https://localhost:8080/"
        },
        "id": "LqQ0g65fyGf3",
        "outputId": "bcecf992-f331-4d53-dcc5-f4cd02e71743"
      },
      "source": [
        "#Print type\n",
        "print(type(matrix))"
      ],
      "execution_count": 51,
      "outputs": [
        {
          "output_type": "stream",
          "name": "stdout",
          "text": [
            "<class 'numpy.ndarray'>\n"
          ]
        }
      ]
    },
    {
      "cell_type": "code",
      "metadata": {
        "colab": {
          "base_uri": "https://localhost:8080/"
        },
        "id": "YiifFjHdzIr_",
        "outputId": "419f7443-7b05-4e15-83dd-0992cfa61439"
      },
      "source": [
        "#Print data type\n",
        "matrix.dtype"
      ],
      "execution_count": 52,
      "outputs": [
        {
          "output_type": "execute_result",
          "data": {
            "text/plain": [
              "dtype('int64')"
            ]
          },
          "metadata": {},
          "execution_count": 52
        }
      ]
    },
    {
      "cell_type": "code",
      "metadata": {
        "colab": {
          "base_uri": "https://localhost:8080/"
        },
        "id": "MMcMDFtgvG4B",
        "outputId": "582b77d8-c3e8-4289-8ea0-ebeb79a8f53b"
      },
      "source": [
        "#Print size\n",
        "matrix.size"
      ],
      "execution_count": 53,
      "outputs": [
        {
          "output_type": "execute_result",
          "data": {
            "text/plain": [
              "3"
            ]
          },
          "metadata": {},
          "execution_count": 53
        }
      ]
    },
    {
      "cell_type": "code",
      "metadata": {
        "colab": {
          "base_uri": "https://localhost:8080/"
        },
        "id": "pUW0Hsx1ulJ_",
        "outputId": "066ef4c8-df72-4a08-fc1c-5f7a81b2497b"
      },
      "source": [
        "#Print shape\n",
        "matrix.shape"
      ],
      "execution_count": 54,
      "outputs": [
        {
          "output_type": "execute_result",
          "data": {
            "text/plain": [
              "(3,)"
            ]
          },
          "metadata": {},
          "execution_count": 54
        }
      ]
    },
    {
      "cell_type": "code",
      "metadata": {
        "colab": {
          "base_uri": "https://localhost:8080/"
        },
        "id": "BpGhl432u3ln",
        "outputId": "9d5a80cc-f978-4145-8a76-c9dadf25630f"
      },
      "source": [
        "#Print dimension\n",
        "matrix.ndim"
      ],
      "execution_count": 55,
      "outputs": [
        {
          "output_type": "execute_result",
          "data": {
            "text/plain": [
              "1"
            ]
          },
          "metadata": {},
          "execution_count": 55
        }
      ]
    }
  ]
}